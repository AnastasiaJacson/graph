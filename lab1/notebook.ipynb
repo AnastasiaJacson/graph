{
 "cells": [
  {
   "cell_type": "markdown",
   "metadata": {
    "id": "4kbb-vzD4d_O"
   },
   "source": [
    "# Setups"
   ]
  },
  {
   "cell_type": "code",
   "execution_count": 1,
   "metadata": {
    "colab": {
     "base_uri": "https://localhost:8080/"
    },
    "id": "S7a-JxLn4B30",
    "outputId": "c3850b0a-5c24-44f6-d22c-35d34e5301f0"
   },
   "outputs": [
    {
     "name": "stdout",
     "output_type": "stream",
     "text": [
      "Requirement already satisfied: networkx[default] in c:\\university\\graphs\\.venv\\lib\\site-packages (3.4.2)\n",
      "Requirement already satisfied: numpy>=1.24 in c:\\university\\graphs\\.venv\\lib\\site-packages (from networkx[default]) (2.2.3)\n",
      "Requirement already satisfied: scipy!=1.11.0,!=1.11.1,>=1.10 in c:\\university\\graphs\\.venv\\lib\\site-packages (from networkx[default]) (1.15.2)\n",
      "Requirement already satisfied: matplotlib>=3.7 in c:\\university\\graphs\\.venv\\lib\\site-packages (from networkx[default]) (3.10.1)\n",
      "Requirement already satisfied: pandas>=2.0 in c:\\university\\graphs\\.venv\\lib\\site-packages (from networkx[default]) (2.2.3)\n",
      "Requirement already satisfied: contourpy>=1.0.1 in c:\\university\\graphs\\.venv\\lib\\site-packages (from matplotlib>=3.7->networkx[default]) (1.3.1)\n",
      "Requirement already satisfied: cycler>=0.10 in c:\\university\\graphs\\.venv\\lib\\site-packages (from matplotlib>=3.7->networkx[default]) (0.12.1)\n",
      "Requirement already satisfied: fonttools>=4.22.0 in c:\\university\\graphs\\.venv\\lib\\site-packages (from matplotlib>=3.7->networkx[default]) (4.56.0)\n",
      "Requirement already satisfied: kiwisolver>=1.3.1 in c:\\university\\graphs\\.venv\\lib\\site-packages (from matplotlib>=3.7->networkx[default]) (1.4.8)\n",
      "Requirement already satisfied: packaging>=20.0 in c:\\university\\graphs\\.venv\\lib\\site-packages (from matplotlib>=3.7->networkx[default]) (24.2)\n",
      "Requirement already satisfied: pillow>=8 in c:\\university\\graphs\\.venv\\lib\\site-packages (from matplotlib>=3.7->networkx[default]) (11.1.0)\n",
      "Requirement already satisfied: pyparsing>=2.3.1 in c:\\university\\graphs\\.venv\\lib\\site-packages (from matplotlib>=3.7->networkx[default]) (3.2.1)\n",
      "Requirement already satisfied: python-dateutil>=2.7 in c:\\university\\graphs\\.venv\\lib\\site-packages (from matplotlib>=3.7->networkx[default]) (2.9.0.post0)\n",
      "Requirement already satisfied: pytz>=2020.1 in c:\\university\\graphs\\.venv\\lib\\site-packages (from pandas>=2.0->networkx[default]) (2025.1)\n",
      "Requirement already satisfied: tzdata>=2022.7 in c:\\university\\graphs\\.venv\\lib\\site-packages (from pandas>=2.0->networkx[default]) (2025.1)\n",
      "Requirement already satisfied: six>=1.5 in c:\\university\\graphs\\.venv\\lib\\site-packages (from python-dateutil>=2.7->matplotlib>=3.7->networkx[default]) (1.17.0)\n"
     ]
    },
    {
     "name": "stderr",
     "output_type": "stream",
     "text": [
      "\n",
      "[notice] A new release of pip is available: 23.2.1 -> 25.0.1\n",
      "[notice] To update, run: python.exe -m pip install --upgrade pip\n"
     ]
    }
   ],
   "source": [
    "!pip install networkx[default]"
   ]
  },
  {
   "cell_type": "code",
   "execution_count": null,
   "metadata": {
    "id": "4HdOO4dU4Nw7"
   },
   "outputs": [],
   "source": [
    "with open('./data/data.txt', 'w') as f:\n",
    "    f.write('''[2 1]\n",
    "[3 1] [3 2]\n",
    "[4 1] [4 2] [4 3]\n",
    "[5 1]\n",
    "[6 1]\n",
    "[7 1] [7 5] [7 6]\n",
    "[8 1] [8 2] [8 3] [8 4]\n",
    "[9 1] [9 3]\n",
    "[10 3]\n",
    "[11 1] [11 5] [11 6]\n",
    "[12 1]\n",
    "[13 1] [13 4]\n",
    "[14 1] [14 2] [14 3] [14 4]\n",
    "[17 6] [17 7]\n",
    "[18 1] [18 2]\n",
    "[20 1] [20 2]\n",
    "[22 1] [22 2]\n",
    "[26 24] [26 25]\n",
    "[28 3] [28 24] [28 25]\n",
    "[29 3]\n",
    "[30 24] [30 27]\n",
    "[31 2] [31 9]\n",
    "[32 1] [32 25] [32 26] [32 29]\n",
    "[33 3] [33 9] [33 15] [33 16] [33 19] [33 21] [33 23] [33 24] [33 30] [33 31] [33 32]\n",
    "[34 9] [34 10] [34 14] [34 15] [34 16] [34 19] [34 20] [34 21] [34 23] [34 24] [34 27] [34 28] [34 29] [34 30] [34 31] [34 32] [34 33]''')"
   ]
  },
  {
   "cell_type": "markdown",
   "metadata": {
    "id": "aJLeXNPy4o3D"
   },
   "source": [
    "# Imports"
   ]
  },
  {
   "cell_type": "code",
   "execution_count": 3,
   "metadata": {
    "id": "PDicKVtb4g79"
   },
   "outputs": [],
   "source": [
    "from typing import Optional\n",
    "import networkx as nx\n",
    "import re\n",
    "from collections.abc import Callable\n",
    "from copy import copy\n",
    "import numpy as np\n",
    "import matplotlib.pyplot as plt\n",
    "\n",
    "from read_edges import parse_graph_from_file, edge_regex, parse_match\n",
    "from bfs import bfs\n",
    "from dfs import dfs\n",
    "from shortest_path import bfs as bfs_shortest_path\n",
    "from all_paths import find_all_paths\n",
    "from cycle_detection import dfs as dfs_cycle_detection\n",
    "from node_degrees import get_degrees\n",
    "from overlap_measures import jaccard, salton, sorenson\n",
    "from laplacians import get_laplacian, get_sym_laplacian, get_rw_laplacian, get_matrix"
   ]
  },
  {
   "cell_type": "markdown",
   "metadata": {
    "id": "lAIgURct41Yn"
   },
   "source": [
    "# Parsing"
   ]
  },
  {
   "cell_type": "markdown",
   "metadata": {
    "id": "71BuTZ_Z434g"
   },
   "source": [
    "## Edges"
   ]
  },
  {
   "cell_type": "code",
   "execution_count": 4,
   "metadata": {
    "colab": {
     "base_uri": "https://localhost:8080/"
    },
    "id": "QA-Adcmi40rq",
    "outputId": "8cd6f049-0e31-4714-8fe4-f24ebfd329ad"
   },
   "outputs": [
    {
     "name": "stdout",
     "output_type": "stream",
     "text": [
      "Graph with 34 nodes and 78 edges\n"
     ]
    }
   ],
   "source": [
    "graph = parse_graph_from_file('./data/data.txt')\n",
    "\n",
    "print(graph)"
   ]
  },
  {
   "cell_type": "markdown",
   "metadata": {
    "id": "H6R1aiCr5F2r"
   },
   "source": [
    "## Matrix"
   ]
  },
  {
   "cell_type": "markdown",
   "metadata": {
    "id": "AzkVTzAc5H5s"
   },
   "source": [
    "### Convert to matrix file"
   ]
  },
  {
   "cell_type": "code",
   "execution_count": 5,
   "metadata": {
    "id": "RPg-kjQS5BYF"
   },
   "outputs": [],
   "source": [
    "with open(\"./data/data.txt\", \"r\") as f:\n",
    "    file_data = \" \".join(f.readlines())\n",
    "\n",
    "edges = [parse_match(match) for match in re.finditer(edge_regex, file_data)]\n",
    "\n",
    "all_nodes = set([e[0] for e in edges] + [e[1] for e in edges])\n",
    "n = len(all_nodes)\n",
    "\n",
    "matrix = [[False] * n for _ in range(n)]\n",
    "\n",
    "for edge in edges:\n",
    "    matrix[edge[0] - 1][edge[1] - 1] = True\n",
    "    matrix[edge[1] - 1][edge[0] - 1] = True\n",
    "\n",
    "with open('./data/matrix.txt', 'w') as f:\n",
    "    f.write(str(matrix))"
   ]
  },
  {
   "cell_type": "markdown",
   "metadata": {
    "id": "H3tVeTWp5ZOg"
   },
   "source": [
    "### Read"
   ]
  },
  {
   "cell_type": "code",
   "execution_count": 6,
   "metadata": {
    "colab": {
     "base_uri": "https://localhost:8080/"
    },
    "id": "UV6RQSAq5RF5",
    "outputId": "bd1898ff-68a5-4b63-cd37-dde8f43d6546"
   },
   "outputs": [
    {
     "name": "stdout",
     "output_type": "stream",
     "text": [
      "Graph with 34 nodes and 78 edges\n"
     ]
    }
   ],
   "source": [
    "with open(\"./data/matrix.txt\", \"r\") as f:\n",
    "    matrix = eval(f.readline())\n",
    "\n",
    "graph = nx.Graph()\n",
    "\n",
    "for i, row in enumerate(matrix, 1):\n",
    "    connections = [(i, j) for j, elem in enumerate(row, 1) if elem]\n",
    "    graph.add_edges_from(connections)\n",
    "\n",
    "print(graph)"
   ]
  },
  {
   "cell_type": "markdown",
   "metadata": {
    "id": "5puavqY65vXm"
   },
   "source": [
    "# Algorithms"
   ]
  },
  {
   "cell_type": "markdown",
   "metadata": {
    "id": "Svofkg0Y5xUL"
   },
   "source": [
    "## BFS"
   ]
  },
  {
   "cell_type": "code",
   "execution_count": 7,
   "metadata": {
    "colab": {
     "base_uri": "https://localhost:8080/"
    },
    "id": "1f66FY7h5eY-",
    "outputId": "2fe28005-0390-4dad-f74d-e5ccbb3b9311",
    "scrolled": true
   },
   "outputs": [
    {
     "name": "stdout",
     "output_type": "stream",
     "text": [
      "1\n",
      "2\n",
      "3\n",
      "4\n",
      "5\n",
      "6\n",
      "7\n",
      "8\n",
      "9\n",
      "11\n",
      "12\n",
      "13\n",
      "14\n",
      "18\n",
      "20\n",
      "22\n",
      "32\n",
      "31\n",
      "10\n",
      "28\n",
      "29\n",
      "33\n",
      "17\n",
      "34\n",
      "25\n",
      "26\n",
      "24\n",
      "15\n",
      "16\n",
      "19\n",
      "21\n",
      "23\n",
      "30\n",
      "27\n"
     ]
    }
   ],
   "source": [
    "bfs(1, graph, lambda x, _: print(x))"
   ]
  },
  {
   "cell_type": "markdown",
   "metadata": {
    "id": "hBewTlvS6A57"
   },
   "source": [
    "## DFS"
   ]
  },
  {
   "cell_type": "code",
   "execution_count": 8,
   "metadata": {
    "colab": {
     "base_uri": "https://localhost:8080/"
    },
    "id": "7YCPtfNA56ba",
    "outputId": "96fff093-9ba9-4b1e-f90c-881fb9159a57",
    "scrolled": true
   },
   "outputs": [
    {
     "name": "stdout",
     "output_type": "stream",
     "text": [
      "1\n",
      "2\n",
      "3\n",
      "4\n",
      "8\n",
      "13\n",
      "14\n",
      "34\n",
      "9\n",
      "31\n",
      "33\n",
      "15\n",
      "16\n",
      "19\n",
      "21\n",
      "23\n",
      "24\n",
      "26\n",
      "25\n",
      "28\n",
      "32\n",
      "29\n",
      "30\n",
      "27\n",
      "10\n",
      "20\n",
      "18\n",
      "22\n",
      "5\n",
      "7\n",
      "6\n",
      "11\n",
      "17\n",
      "12\n"
     ]
    }
   ],
   "source": [
    "dfs(1, graph, lambda x, _: print(x))"
   ]
  },
  {
   "cell_type": "markdown",
   "metadata": {
    "id": "nRaoEPR46KO-"
   },
   "source": [
    "## Shortest path"
   ]
  },
  {
   "cell_type": "code",
   "execution_count": 9,
   "metadata": {
    "colab": {
     "base_uri": "https://localhost:8080/"
    },
    "id": "DGn8kVx26ZV1",
    "outputId": "33d2506e-d238-40dd-d08c-f0611bfb2aaa"
   },
   "outputs": [
    {
     "name": "stdout",
     "output_type": "stream",
     "text": [
      "dist: 5 ; path: [17, 6, 1, 3, 33, 19]\n"
     ]
    }
   ],
   "source": [
    "src = 17\n",
    "dest = 19\n",
    "\n",
    "dist, parent = bfs_shortest_path(src, graph, lambda x, _: None)\n",
    "\n",
    "path = []\n",
    "curr = dest\n",
    "while curr != src:\n",
    "    path.append(curr)\n",
    "    curr = parent[curr]\n",
    "\n",
    "path = [src] + list(reversed(path))\n",
    "\n",
    "print('dist:', dist[dest], ';', 'path:', path)"
   ]
  },
  {
   "cell_type": "markdown",
   "metadata": {
    "id": "DYmoeNGo6e7G"
   },
   "source": [
    "## All paths"
   ]
  },
  {
   "cell_type": "code",
   "execution_count": 10,
   "metadata": {
    "colab": {
     "base_uri": "https://localhost:8080/"
    },
    "id": "l1eZu3u76mY3",
    "outputId": "4e4434f6-db23-4742-9120-19e6f95ce934"
   },
   "outputs": [
    {
     "name": "stdout",
     "output_type": "stream",
     "text": [
      "[[1, 3, 33, 19], [1, 9, 33, 19], [1, 9, 34, 19], [1, 14, 34, 19], [1, 20, 34, 19], [1, 32, 33, 19], [1, 32, 34, 19]]\n"
     ]
    }
   ],
   "source": [
    "src = 1\n",
    "dest = 19\n",
    "length = 3\n",
    "\n",
    "paths = find_all_paths(src, dest, length, graph)\n",
    "print(paths)"
   ]
  },
  {
   "cell_type": "markdown",
   "metadata": {
    "id": "zsUkPUp_6tn1"
   },
   "source": [
    "## Cycle detection"
   ]
  },
  {
   "cell_type": "code",
   "execution_count": 11,
   "metadata": {
    "colab": {
     "base_uri": "https://localhost:8080/"
    },
    "id": "LsLYo6p860Bw",
    "outputId": "47e21669-30eb-4f04-bf8f-f8b8a04d3b39"
   },
   "outputs": [
    {
     "name": "stdout",
     "output_type": "stream",
     "text": [
      "[1, 2, 3, 1]\n"
     ]
    }
   ],
   "source": [
    "src = 1\n",
    "\n",
    "path = dfs_cycle_detection(src, graph, [src])\n",
    "\n",
    "print(path)"
   ]
  },
  {
   "cell_type": "markdown",
   "metadata": {
    "id": "pdCUbWxX7DY6"
   },
   "source": [
    "# Statistics"
   ]
  },
  {
   "cell_type": "markdown",
   "metadata": {
    "id": "bwlgHajt7OIN"
   },
   "source": [
    "## Node degrees"
   ]
  },
  {
   "cell_type": "code",
   "execution_count": 12,
   "metadata": {
    "colab": {
     "base_uri": "https://localhost:8080/"
    },
    "id": "hBZxZ6qNUF_u",
    "outputId": "55ea2f4b-cf04-4c8b-c6e1-bb0c062c96f0"
   },
   "outputs": [
    {
     "data": {
      "text/plain": [
       "array([[16,  0,  0, ...,  0,  0,  0],\n",
       "       [ 0,  9,  0, ...,  0,  0,  0],\n",
       "       [ 0,  0, 10, ...,  0,  0,  0],\n",
       "       ...,\n",
       "       [ 0,  0,  0, ...,  6,  0,  0],\n",
       "       [ 0,  0,  0, ...,  0, 12,  0],\n",
       "       [ 0,  0,  0, ...,  0,  0, 17]], shape=(34, 34), dtype=int32)"
      ]
     },
     "execution_count": 12,
     "metadata": {},
     "output_type": "execute_result"
    }
   ],
   "source": [
    "D = get_degrees(graph)\n",
    "D"
   ]
  },
  {
   "cell_type": "markdown",
   "metadata": {
    "id": "ZMNezFoX7lVN"
   },
   "source": [
    "## Local overlap measures"
   ]
  },
  {
   "cell_type": "code",
   "execution_count": 13,
   "metadata": {
    "colab": {
     "base_uri": "https://localhost:8080/"
    },
    "id": "gYlau7pK7aAy",
    "outputId": "a965bb59-5e00-4689-e112-011865c8004f"
   },
   "outputs": [
    {
     "data": {
      "text/plain": [
       "array([[0.        , 0.56      , 0.38461538, ..., 0.        , 0.21428571,\n",
       "        0.24242424],\n",
       "       [0.56      , 0.        , 0.42105263, ..., 0.13333333, 0.19047619,\n",
       "        0.23076923],\n",
       "       [0.38461538, 0.42105263, 0.        , ..., 0.375     , 0.09090909,\n",
       "        0.44444444],\n",
       "       ...,\n",
       "       [0.        , 0.13333333, 0.375     , ..., 0.        , 0.11111111,\n",
       "        0.17391304],\n",
       "       [0.21428571, 0.19047619, 0.09090909, ..., 0.11111111, 0.        ,\n",
       "        0.68965517],\n",
       "       [0.24242424, 0.23076923, 0.44444444, ..., 0.17391304, 0.68965517,\n",
       "        0.        ]], shape=(34, 34))"
      ]
     },
     "execution_count": 13,
     "metadata": {},
     "output_type": "execute_result"
    }
   ],
   "source": [
    "sorenson_matrix = sorenson(graph)\n",
    "\n",
    "sorenson_matrix"
   ]
  },
  {
   "cell_type": "code",
   "execution_count": 14,
   "metadata": {
    "colab": {
     "base_uri": "https://localhost:8080/",
     "height": 430
    },
    "id": "E1XOSCFFAV4x",
    "outputId": "920f9e54-880d-492a-b74f-af68537db5e0"
   },
   "outputs": [
    {
     "data": {
      "image/png": "[encoded data removed]",
      "text/plain": [
       "<Figure size 640x480 with 1 Axes>"
      ]
     },
     "metadata": {},
     "output_type": "display_data"
    }
   ],
   "source": [
    "plt.imshow(np.array(sorenson_matrix), cmap='hot')\n",
    "plt.show()"
   ]
  },
  {
   "cell_type": "code",
   "execution_count": 15,
   "metadata": {
    "colab": {
     "base_uri": "https://localhost:8080/"
    },
    "id": "VjOG6YEeA1RY",
    "outputId": "5f6db228-6267-47cb-814c-00aa79ab6c49"
   },
   "outputs": [
    {
     "data": {
      "text/plain": [
       "array([[0.        , 1.16666667, 0.79056942, ..., 0.        , 0.4330127 ,\n",
       "        0.48507125],\n",
       "       [1.16666667, 0.        , 0.84327404, ..., 0.27216553, 0.38490018,\n",
       "        0.48507125],\n",
       "       [0.79056942, 0.84327404, 0.        , ..., 0.77459667, 0.18257419,\n",
       "        0.92035799],\n",
       "       ...,\n",
       "       [0.        , 0.27216553, 0.77459667, ..., 0.        , 0.23570226,\n",
       "        0.39605902],\n",
       "       [0.4330127 , 0.38490018, 0.18257419, ..., 0.23570226, 0.        ,\n",
       "        1.40028008],\n",
       "       [0.48507125, 0.48507125, 0.92035799, ..., 0.39605902, 1.40028008,\n",
       "        0.        ]], shape=(34, 34))"
      ]
     },
     "execution_count": 15,
     "metadata": {},
     "output_type": "execute_result"
    }
   ],
   "source": [
    "salton_matrix = salton(graph)\n",
    "\n",
    "salton_matrix"
   ]
  },
  {
   "cell_type": "code",
   "execution_count": 16,
   "metadata": {
    "colab": {
     "base_uri": "https://localhost:8080/",
     "height": 430
    },
    "id": "FASV0cIfBGjr",
    "outputId": "00527464-4517-4e73-ccf6-30d2e3f71e93"
   },
   "outputs": [
    {
     "data": {
      "image/png": "[encoded data removed]",
      "text/plain": [
       "<Figure size 640x480 with 1 Axes>"
      ]
     },
     "metadata": {},
     "output_type": "display_data"
    }
   ],
   "source": [
    "plt.imshow(np.array(salton_matrix), cmap='hot')\n",
    "plt.show()"
   ]
  },
  {
   "cell_type": "code",
   "execution_count": 17,
   "metadata": {
    "colab": {
     "base_uri": "https://localhost:8080/"
    },
    "id": "uQLmw7JxBTss",
    "outputId": "e68f2962-3253-4729-87dd-a54e4866e3ea"
   },
   "outputs": [
    {
     "data": {
      "text/plain": [
       "array([[0.        , 0.38888889, 0.23809524, ..., 0.        , 0.12      ,\n",
       "        0.13793103],\n",
       "       [0.38888889, 0.        , 0.26666667, ..., 0.07142857, 0.10526316,\n",
       "        0.13043478],\n",
       "       [0.23809524, 0.26666667, 0.        , ..., 0.23076923, 0.04761905,\n",
       "        0.28571429],\n",
       "       ...,\n",
       "       [0.        , 0.07142857, 0.23076923, ..., 0.        , 0.05882353,\n",
       "        0.0952381 ],\n",
       "       [0.12      , 0.10526316, 0.04761905, ..., 0.05882353, 0.        ,\n",
       "        0.52631579],\n",
       "       [0.13793103, 0.13043478, 0.28571429, ..., 0.0952381 , 0.52631579,\n",
       "        0.        ]], shape=(34, 34))"
      ]
     },
     "execution_count": 17,
     "metadata": {},
     "output_type": "execute_result"
    }
   ],
   "source": [
    "jaccard_matrix = jaccard(graph)\n",
    "\n",
    "jaccard_matrix"
   ]
  },
  {
   "cell_type": "code",
   "execution_count": 18,
   "metadata": {
    "colab": {
     "base_uri": "https://localhost:8080/",
     "height": 430
    },
    "id": "nOF3oBvmEYfQ",
    "outputId": "6898118a-098d-4116-9ced-58517f82f7c9"
   },
   "outputs": [
    {
     "data": {
      "image/png": "[encoded data removed]",
      "text/plain": [
       "<Figure size 640x480 with 1 Axes>"
      ]
     },
     "metadata": {},
     "output_type": "display_data"
    }
   ],
   "source": [
    "plt.imshow(np.array(jaccard_matrix), cmap='hot')\n",
    "plt.show()"
   ]
  },
  {
   "cell_type": "markdown",
   "metadata": {
    "id": "dlbd4ZWP71Q7"
   },
   "source": [
    "## Laplacians"
   ]
  },
  {
   "cell_type": "code",
   "execution_count": 19,
   "metadata": {
    "colab": {
     "base_uri": "https://localhost:8080/"
    },
    "id": "3UyLc3k_Ufx9",
    "outputId": "01a5386f-4de6-49e5-e242-cdbd74ab2d45"
   },
   "outputs": [
    {
     "data": {
      "text/plain": [
       "array([[16., -1., -1., ..., -1.,  0.,  0.],\n",
       "       [-1.,  9., -1., ...,  0.,  0.,  0.],\n",
       "       [-1., -1., 10., ...,  0., -1.,  0.],\n",
       "       ...,\n",
       "       [-1.,  0.,  0., ...,  6., -1., -1.],\n",
       "       [ 0.,  0., -1., ..., -1., 12., -1.],\n",
       "       [ 0.,  0.,  0., ..., -1., -1., 17.]], shape=(34, 34))"
      ]
     },
     "execution_count": 19,
     "metadata": {},
     "output_type": "execute_result"
    }
   ],
   "source": [
    "L = get_laplacian(graph)\n",
    "\n",
    "L"
   ]
  },
  {
   "cell_type": "code",
   "execution_count": 20,
   "metadata": {
    "colab": {
     "base_uri": "https://localhost:8080/"
    },
    "id": "WJceeI0uF6aY",
    "outputId": "9cbeacfa-d7a0-4d21-dc34-808ce2f07d5c"
   },
   "outputs": [
    {
     "data": {
      "text/plain": [
       "array([0., 0., 0., 0., 0., 0., 0., 0., 0., 0., 0., 0., 0., 0., 0., 0., 0.,\n",
       "       0., 0., 0., 0., 0., 0., 0., 0., 0., 0., 0., 0., 0., 0., 0., 0., 0.])"
      ]
     },
     "execution_count": 20,
     "metadata": {},
     "output_type": "execute_result"
    }
   ],
   "source": [
    "np.sum(L, axis=0)"
   ]
  },
  {
   "cell_type": "markdown",
   "metadata": {
    "id": "WT_ftVMi7n18"
   },
   "source": [
    "## Eigenvalues and eigenvectors for adjacency matrix and L"
   ]
  },
  {
   "cell_type": "code",
   "execution_count": 21,
   "metadata": {
    "colab": {
     "base_uri": "https://localhost:8080/"
    },
    "id": "ufEdl1N_TOpg",
    "outputId": "5d337ab4-bebd-4f3a-f661-8a363148b24b"
   },
   "outputs": [
    {
     "data": {
      "text/plain": [
       "EighResult(eigenvalues=array([-4.48722919e+00, -3.44793486e+00, -3.11069092e+00, -2.43742443e+00,\n",
       "       -2.09082295e+00, -2.00000000e+00, -1.68768945e+00, -1.44407374e+00,\n",
       "       -1.19242425e+00, -1.04208785e+00, -7.92406815e-01, -4.18818748e-01,\n",
       "       -1.21742840e-15, -9.92316874e-16, -7.60266907e-16, -3.93673784e-16,\n",
       "       -2.63837154e-16,  3.91188050e-17,  4.40001575e-16,  6.43778172e-16,\n",
       "        7.01131309e-16,  1.26697474e-15,  2.99410685e-01,  4.19729474e-01,\n",
       "        6.15840589e-01,  8.34304102e-01,  1.03145042e+00,  1.08328639e+00,\n",
       "        1.45305566e+00,  1.48615954e+00,  2.30908767e+00,  2.91650670e+00,\n",
       "        4.97707423e+00,  6.72569773e+00]), eigenvectors=array([[ 0.31716992, -0.27730159,  0.55468453, ...,  0.19785758,\n",
       "        -0.38686107,  0.35549144],\n",
       "       [ 0.12496128, -0.10787731,  0.01703733, ..., -0.25029731,\n",
       "        -0.26893952,  0.26595992],\n",
       "       [ 0.02726159,  0.53924221,  0.13327895, ..., -0.2466749 ,\n",
       "        -0.13115956,  0.3171925 ],\n",
       "       ...,\n",
       "       [-0.26735819,  0.18302254, -0.01093306, ...,  0.14613828,\n",
       "         0.10223455,  0.19103384],\n",
       "       [ 0.281354  , -0.33230442, -0.36967755, ...,  0.03723557,\n",
       "         0.32455583,  0.30864422],\n",
       "       [ 0.52093712,  0.32343689, -0.13544691, ...,  0.03427508,\n",
       "         0.37058908,  0.37336347]], shape=(34, 34)))"
      ]
     },
     "execution_count": 21,
     "metadata": {},
     "output_type": "execute_result"
    }
   ],
   "source": [
    "A = get_matrix(graph)\n",
    "\n",
    "A_eig_result = np.linalg.eigh(A)\n",
    "\n",
    "A_eig_result"
   ]
  },
  {
   "cell_type": "code",
   "execution_count": 22,
   "metadata": {
    "colab": {
     "base_uri": "https://localhost:8080/"
    },
    "id": "_LWV1iWe73LK",
    "outputId": "e96198c2-1775-4426-d34d-df02761748ca"
   },
   "outputs": [
    {
     "data": {
      "text/plain": [
       "EighResult(eigenvalues=array([1.08853800e-15, 4.68525227e-01, 9.09247664e-01, 1.12501072e+00,\n",
       "       1.25940411e+00, 1.59928308e+00, 1.76189862e+00, 1.82605521e+00,\n",
       "       1.95505045e+00, 2.00000000e+00, 2.00000000e+00, 2.00000000e+00,\n",
       "       2.00000000e+00, 2.00000000e+00, 2.48709173e+00, 2.74915718e+00,\n",
       "       3.01396297e+00, 3.24206748e+00, 3.37615409e+00, 3.38196601e+00,\n",
       "       3.47218740e+00, 4.27587682e+00, 4.48000767e+00, 4.58079267e+00,\n",
       "       5.37859508e+00, 5.61803399e+00, 6.33159222e+00, 6.51554463e+00,\n",
       "       6.99619703e+00, 9.77724095e+00, 1.09210675e+01, 1.33061223e+01,\n",
       "       1.70551712e+01, 1.81366960e+01]), eigenvectors=array([[ 0.17149859, -0.11213743,  0.06940423, ...,  0.09478253,\n",
       "        -0.94093217,  0.19374903],\n",
       "       [ 0.17149859, -0.04128789,  0.09514749, ..., -0.09918451,\n",
       "         0.06586476,  0.00522422],\n",
       "       [ 0.17149859,  0.02321896,  0.04270411, ...,  0.31479791,\n",
       "         0.11506912,  0.02918609],\n",
       "       ...,\n",
       "       [ 0.17149859,  0.09875343, -0.02830225, ...,  0.12302713,\n",
       "         0.07685092, -0.0855124 ],\n",
       "       [ 0.17149859,  0.13034546, -0.03779294, ..., -0.88955887,\n",
       "        -0.07434337, -0.05907528],\n",
       "       [ 0.17149859,  0.11890326, -0.02839394, ..., -0.0374803 ,\n",
       "         0.20184142,  0.94347941]], shape=(34, 34)))"
      ]
     },
     "execution_count": 22,
     "metadata": {},
     "output_type": "execute_result"
    }
   ],
   "source": [
    "L_eig_result = np.linalg.eigh(L)\n",
    "\n",
    "L_eig_result"
   ]
  },
  {
   "cell_type": "code",
   "execution_count": 23,
   "metadata": {
    "colab": {
     "base_uri": "https://localhost:8080/"
    },
    "id": "YWbifX3CV_l3",
    "outputId": "8aa8b21d-f52b-4ec7-fff1-639c85d1e99f"
   },
   "outputs": [
    {
     "data": {
      "text/plain": [
       "array([ True, False, False, False, False, False, False, False, False,\n",
       "       False, False, False, False, False, False, False, False, False,\n",
       "       False, False, False, False, False, False, False, False, False,\n",
       "       False, False, False, False, False, False, False])"
      ]
     },
     "execution_count": 23,
     "metadata": {},
     "output_type": "execute_result"
    }
   ],
   "source": [
    "np.abs(L_eig_result.eigenvalues) < 1e-10"
   ]
  },
  {
   "cell_type": "markdown",
   "metadata": {
    "id": "_U1sialYGmXw"
   },
   "source": [
    "## Normalized laplacians"
   ]
  },
  {
   "cell_type": "code",
   "execution_count": 24,
   "metadata": {
    "colab": {
     "base_uri": "https://localhost:8080/"
    },
    "id": "i-OUsD3yGRm4",
    "outputId": "29585da6-0094-47cb-bd10-d0e615064508"
   },
   "outputs": [],
   "source": [
    "L_sym = get_sym_laplacian(graph)"
   ]
  },
  {
   "cell_type": "code",
   "execution_count": 25,
   "metadata": {
    "colab": {
     "base_uri": "https://localhost:8080/"
    },
    "id": "SPBv9QEIHoHn",
    "outputId": "32e26990-64fb-411f-c24c-84a39765e85a"
   },
   "outputs": [
    {
     "data": {
      "text/plain": [
       "EighResult(eigenvalues=array([-3.55242235e-16,  1.32272329e-01,  2.87048985e-01,  3.87313233e-01,\n",
       "        6.12230540e-01,  6.48992947e-01,  7.07208202e-01,  7.39957989e-01,\n",
       "        7.70910617e-01,  8.22942852e-01,  8.64832945e-01,  9.06816002e-01,\n",
       "        1.00000000e+00,  1.00000000e+00,  1.00000000e+00,  1.00000000e+00,\n",
       "        1.00000000e+00,  1.00000000e+00,  1.00000000e+00,  1.00000000e+00,\n",
       "        1.00000000e+00,  1.00000000e+00,  1.10538084e+00,  1.15929996e+00,\n",
       "        1.26802355e+00,  1.35177826e+00,  1.39310454e+00,  1.41691585e+00,\n",
       "        1.44857938e+00,  1.49703011e+00,  1.56950660e+00,  1.58333333e+00,\n",
       "        1.61190959e+00,  1.71461135e+00]), eigenvectors=array([[-3.20256308e-01,  2.96399797e-01, -1.44586983e-01, ...,\n",
       "        -5.13266212e-15,  1.92425279e-02, -2.21118943e-01],\n",
       "       [-2.40192231e-01,  1.13413889e-01, -3.50466912e-01, ...,\n",
       "        -4.29457724e-15,  3.02953464e-02, -1.85412174e-01],\n",
       "       [-2.53184842e-01, -8.97112612e-03, -2.11481660e-01, ...,\n",
       "         2.22574360e-15, -2.85246870e-01, -3.47801994e-02],\n",
       "       ...,\n",
       "       [-1.96116135e-01, -1.28108134e-01,  1.10871456e-01, ...,\n",
       "         2.07037251e-16, -6.20263578e-02,  1.99284813e-01],\n",
       "       [-2.77350098e-01, -2.51627460e-01,  1.12649647e-01, ...,\n",
       "         2.53644064e-15,  1.14276850e-01, -4.10455289e-01],\n",
       "       [-3.30112646e-01, -2.69793542e-01,  9.23627895e-02, ...,\n",
       "         1.47313157e-15, -1.16016075e-01, -4.73255919e-01]],\n",
       "      shape=(34, 34)))"
      ]
     },
     "execution_count": 25,
     "metadata": {},
     "output_type": "execute_result"
    }
   ],
   "source": [
    "L_sym_eig_result = np.linalg.eigh(L_sym)\n",
    "\n",
    "L_sym_eig_result"
   ]
  },
  {
   "cell_type": "code",
   "execution_count": 26,
   "metadata": {
    "colab": {
     "base_uri": "https://localhost:8080/"
    },
    "id": "AtC0TUufIBpR",
    "outputId": "de4dfde7-f9ac-40f1-980b-76cb3070e78d"
   },
   "outputs": [
    {
     "data": {
      "text/plain": [
       "array([[ 1.        , -0.0625    , -0.0625    , ..., -0.0625    ,\n",
       "         0.        ,  0.        ],\n",
       "       [-0.11111111,  1.        , -0.11111111, ...,  0.        ,\n",
       "         0.        ,  0.        ],\n",
       "       [-0.1       , -0.1       ,  1.        , ...,  0.        ,\n",
       "        -0.1       ,  0.        ],\n",
       "       ...,\n",
       "       [-0.16666667,  0.        ,  0.        , ...,  1.        ,\n",
       "        -0.16666667, -0.16666667],\n",
       "       [ 0.        ,  0.        , -0.08333333, ..., -0.08333333,\n",
       "         1.        , -0.08333333],\n",
       "       [ 0.        ,  0.        ,  0.        , ..., -0.05882353,\n",
       "        -0.05882353,  1.        ]], shape=(34, 34))"
      ]
     },
     "execution_count": 26,
     "metadata": {},
     "output_type": "execute_result"
    }
   ],
   "source": [
    "L_rw = get_rw_laplacian(graph)\n",
    "\n",
    "L_rw"
   ]
  },
  {
   "cell_type": "code",
   "execution_count": 27,
   "metadata": {
    "colab": {
     "base_uri": "https://localhost:8080/"
    },
    "id": "QxsqQcvmI1mX",
    "outputId": "db788cd3-e986-4dd9-d19c-cb7406934528"
   },
   "outputs": [
    {
     "data": {
      "text/plain": [
       "EigResult(eigenvalues=array([2.77555756e-16, 1.32272329e-01, 2.87048985e-01, 3.87313233e-01,\n",
       "       1.71461135e+00, 6.12230540e-01, 6.48992947e-01, 7.07208202e-01,\n",
       "       7.39957989e-01, 7.70910617e-01, 8.22942852e-01, 8.64832945e-01,\n",
       "       9.06816002e-01, 1.10538084e+00, 1.15929996e+00, 1.26802355e+00,\n",
       "       1.61190959e+00, 1.56950660e+00, 1.35177826e+00, 1.39310454e+00,\n",
       "       1.41691585e+00, 1.44857938e+00, 1.49703011e+00, 1.58333333e+00,\n",
       "       1.00000000e+00, 1.00000000e+00, 1.00000000e+00, 1.00000000e+00,\n",
       "       1.00000000e+00, 1.00000000e+00, 1.00000000e+00, 1.00000000e+00,\n",
       "       1.00000000e+00, 1.00000000e+00]), eigenvectors=array([[ 1.71498585e-01, -1.42326767e-01, -6.99275507e-02, ...,\n",
       "        -1.98487935e-17,  3.16941661e-16, -1.57904880e-16],\n",
       "       [ 1.71498585e-01, -7.26128803e-02, -2.25998148e-01, ...,\n",
       "         1.57104084e-16, -2.63193242e-16, -3.02474967e-17],\n",
       "       [ 1.71498585e-01,  5.44898531e-03, -1.29375435e-01, ...,\n",
       "         2.70271532e-17,  5.66856850e-16, -3.34057763e-16],\n",
       "       ...,\n",
       "       [ 1.71498585e-01,  1.00454583e-01,  8.75635250e-02, ...,\n",
       "         3.95307652e-16,  4.78519295e-17, -2.11772664e-17],\n",
       "       [ 1.71498585e-01,  1.39519877e-01,  6.29098026e-02, ...,\n",
       "         6.18108402e-17,  3.27108820e-16, -1.67748558e-17],\n",
       "       [ 1.71498585e-01,  1.25682776e-01,  4.33362864e-02, ...,\n",
       "        -5.45052478e-17, -4.76384802e-16,  1.93973431e-16]],\n",
       "      shape=(34, 34)))"
      ]
     },
     "execution_count": 27,
     "metadata": {},
     "output_type": "execute_result"
    }
   ],
   "source": [
    "L_rw_eig_result = np.linalg.eig(L_rw)\n",
    "\n",
    "L_rw_eig_result"
   ]
  },
  {
   "cell_type": "code",
   "execution_count": null,
   "metadata": {
    "id": "frgs2Tb7I6IZ"
   },
   "outputs": [],
   "source": []
  }
 ],
 "metadata": {
  "colab": {
   "provenance": [],
   "toc_visible": true
  },
  "kernelspec": {
   "display_name": "Python 3 (ipykernel)",
   "language": "python",
   "name": "python3"
  },
  "language_info": {
   "codemirror_mode": {
    "name": "ipython",
    "version": 3
   },
   "file_extension": ".py",
   "mimetype": "text/x-python",
   "name": "python",
   "nbconvert_exporter": "python",
   "pygments_lexer": "ipython3",
   "version": "3.12.0"
  }
 },
 "nbformat": 4,
 "nbformat_minor": 4
}
